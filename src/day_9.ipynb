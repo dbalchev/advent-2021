{
 "cells": [
  {
   "cell_type": "code",
   "execution_count": 1,
   "metadata": {},
   "outputs": [],
   "source": [
    "import cv2\n",
    "import numpy as np\n"
   ]
  },
  {
   "cell_type": "code",
   "execution_count": 2,
   "metadata": {},
   "outputs": [
    {
     "data": {
      "text/plain": [
       "array([[0, 1, 9, ..., 3, 4, 6],\n",
       "       [9, 9, 8, ..., 4, 5, 6],\n",
       "       [8, 6, 7, ..., 5, 7, 7],\n",
       "       ...,\n",
       "       [7, 6, 8, ..., 7, 5, 6],\n",
       "       [8, 7, 9, ..., 5, 4, 6],\n",
       "       [9, 8, 9, ..., 3, 2, 4]], dtype=uint8)"
      ]
     },
     "execution_count": 2,
     "metadata": {},
     "output_type": "execute_result"
    }
   ],
   "source": [
    "m = np.array([\n",
    "    [int(c) for c in line.strip()]\n",
    "    for line in open(\"../inputs/day_9.txt\")\n",
    "], dtype=np.uint8)\n",
    "m"
   ]
  },
  {
   "cell_type": "code",
   "execution_count": 3,
   "metadata": {},
   "outputs": [
    {
     "data": {
      "text/plain": [
       "585"
      ]
     },
     "execution_count": 3,
     "metadata": {},
     "output_type": "execute_result"
    }
   ],
   "source": [
    "lowest_point_map = cv2.erode(m, np.array([[0, 1, 0], [1, 0, 1], [0, 1, 0]], dtype=np.uint8))\n",
    "sum(m[m < lowest_point_map] + 1)"
   ]
  },
  {
   "cell_type": "code",
   "execution_count": 4,
   "metadata": {},
   "outputs": [
    {
     "data": {
      "text/plain": [
       "827904"
      ]
     },
     "execution_count": 4,
     "metadata": {},
     "output_type": "execute_result"
    }
   ],
   "source": [
    "retval, labels, stats, centroids = cv2.connectedComponentsWithStats(\n",
    "    (m < 9).astype(np.uint8),\n",
    "    connectivity=4\n",
    ")\n",
    "areas = np.sort(stats[1:, cv2.CC_STAT_AREA])[-3:]\n",
    "np.prod(areas)"
   ]
  },
  {
   "cell_type": "code",
   "execution_count": null,
   "metadata": {},
   "outputs": [],
   "source": []
  }
 ],
 "metadata": {
  "kernelspec": {
   "display_name": "Python 3",
   "language": "python",
   "name": "python3"
  },
  "language_info": {
   "codemirror_mode": {
    "name": "ipython",
    "version": 3
   },
   "file_extension": ".py",
   "mimetype": "text/x-python",
   "name": "python",
   "nbconvert_exporter": "python",
   "pygments_lexer": "ipython3",
   "version": "3.7.3"
  }
 },
 "nbformat": 4,
 "nbformat_minor": 2
}
